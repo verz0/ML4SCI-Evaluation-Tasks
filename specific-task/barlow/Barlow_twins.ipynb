{
 "cells": [
  {
   "cell_type": "code",
   "execution_count": 7,
   "metadata": {
    "_cell_guid": "b1076dfc-b9ad-4769-8c92-a6c4dae69d19",
    "_uuid": "8f2839f25d086af736a60e9eeb907d3b93b6e0e5",
    "execution": {
     "iopub.execute_input": "2025-03-22T10:54:48.822199Z",
     "iopub.status.busy": "2025-03-22T10:54:48.821878Z",
     "iopub.status.idle": "2025-03-22T10:54:48.828536Z",
     "shell.execute_reply": "2025-03-22T10:54:48.827853Z",
     "shell.execute_reply.started": "2025-03-22T10:54:48.822174Z"
    },
    "trusted": true
   },
   "outputs": [
    {
     "name": "stdout",
     "output_type": "stream",
     "text": [
      "Using device: cuda\n"
     ]
    }
   ],
   "source": [
    "import torch\n",
    "import torch.nn as nn\n",
    "import torch.nn.functional as F\n",
    "import torch.optim as optim\n",
    "from torch.utils.data import Dataset, DataLoader, random_split\n",
    "from torchvision import transforms, models\n",
    "import h5py\n",
    "import numpy as np\n",
    "import random\n",
    "import time\n",
    "import matplotlib.pyplot as plt\n",
    "from tqdm import tqdm\n",
    "import os\n",
    "\n",
    "DEVICE = torch.device(\"cuda\" if torch.cuda.is_available() else \"cpu\")\n",
    "print(\"Using device:\", DEVICE)\n"
   ]
  },
  {
   "cell_type": "code",
   "execution_count": 8,
   "metadata": {
    "execution": {
     "iopub.execute_input": "2025-03-22T10:54:48.830101Z",
     "iopub.status.busy": "2025-03-22T10:54:48.829761Z",
     "iopub.status.idle": "2025-03-22T10:54:48.853421Z",
     "shell.execute_reply": "2025-03-22T10:54:48.852625Z",
     "shell.execute_reply.started": "2025-03-22T10:54:48.830068Z"
    },
    "trusted": true
   },
   "outputs": [],
   "source": [
    "class RandomHorizontalFlipTensor(object):\n",
    "    def __init__(self, p=0.5):\n",
    "        self.p = p\n",
    "    def __call__(self, x):\n",
    "        if random.random() < self.p:\n",
    "            return torch.flip(x, dims=[2])  \n",
    "        return x\n",
    "\n",
    "class RandomVerticalFlipTensor(object):\n",
    "    def __init__(self, p=0.5):\n",
    "        self.p = p\n",
    "    def __call__(self, x):\n",
    "        if random.random() < self.p:\n",
    "            return torch.flip(x, dims=[1])\n",
    "        return x\n",
    "\n",
    "class RandomCropTensor(object):\n",
    "    def __init__(self, output_size):\n",
    "        self.output_size = output_size\n",
    "    def __call__(self, x):\n",
    "        _, h, w = x.shape\n",
    "        new_h, new_w = self.output_size\n",
    "        if h == new_h and w == new_w:\n",
    "            return x\n",
    "        top = random.randint(0, h - new_h)\n",
    "        left = random.randint(0, w - new_w)\n",
    "        return x[:, top: top + new_h, left: left + new_w]\n",
    "\n",
    "barlow_transform = transforms.Compose([\n",
    "    RandomHorizontalFlipTensor(p=0.5),\n",
    "    RandomVerticalFlipTensor(p=0.5),\n",
    "    RandomCropTensor((112, 112)),\n",
    "    transforms.Normalize(mean=[0.5]*8, std=[0.5]*8)\n",
    "])\n"
   ]
  },
  {
   "cell_type": "code",
   "execution_count": 9,
   "metadata": {
    "execution": {
     "iopub.execute_input": "2025-03-22T10:54:48.855474Z",
     "iopub.status.busy": "2025-03-22T10:54:48.855264Z",
     "iopub.status.idle": "2025-03-22T10:54:48.881484Z",
     "shell.execute_reply": "2025-03-22T10:54:48.880813Z",
     "shell.execute_reply.started": "2025-03-22T10:54:48.855456Z"
    },
    "trusted": true
   },
   "outputs": [
    {
     "name": "stdout",
     "output_type": "stream",
     "text": [
      "Unlabelled dataset size: 60000\n"
     ]
    }
   ],
   "source": [
    "class UnlabelledDataset(Dataset):\n",
    "    def __init__(self, h5_path, transform=None):\n",
    "        self.h5_path = h5_path\n",
    "        self.transform = transform\n",
    "        self.h5_file = None \n",
    "        with h5py.File(self.h5_path, 'r') as f:\n",
    "            self.length = f['jet'].shape[0]\n",
    "\n",
    "    def __len__(self):\n",
    "        return self.length\n",
    "\n",
    "    def __getitem__(self, idx):\n",
    "        if self.h5_file is None:\n",
    "            self.h5_file = h5py.File(self.h5_path, 'r')\n",
    "        image = self.h5_file['jet'][idx]\n",
    "        image = torch.tensor(image, dtype=torch.float32).permute(2, 0, 1)\n",
    "        view1 = self.transform(image) if self.transform else image\n",
    "        view2 = self.transform(image) if self.transform else image\n",
    "        return view1, view2\n",
    "\n",
    "    def __del__(self):\n",
    "        if self.h5_file is not None:\n",
    "            self.h5_file.close()\n",
    "\n",
    "unlabelled_h5_path = \"/kaggle/input/data2-st/unlabelled2/content/Dataset_Specific_Unlabelled.h5\"\n",
    "unlabelled_dataset = UnlabelledDataset(h5_path=unlabelled_h5_path, transform=barlow_transform)\n",
    "print(\"Unlabelled dataset size:\", len(unlabelled_dataset))\n",
    "\n",
    "BATCH_SZ_UNLABELLED = 8\n",
    "unlabelled_loader = DataLoader(unlabelled_dataset, batch_size=BATCH_SZ_UNLABELLED, \n",
    "                               shuffle=True, drop_last=True, pin_memory=True)\n"
   ]
  },
  {
   "cell_type": "code",
   "execution_count": 10,
   "metadata": {
    "execution": {
     "iopub.execute_input": "2025-03-22T10:54:48.882776Z",
     "iopub.status.busy": "2025-03-22T10:54:48.882485Z",
     "iopub.status.idle": "2025-03-22T10:54:49.095871Z",
     "shell.execute_reply": "2025-03-22T10:54:49.095147Z",
     "shell.execute_reply.started": "2025-03-22T10:54:48.882743Z"
    },
    "trusted": true
   },
   "outputs": [],
   "source": [
    "class Identity(nn.Module):\n",
    "    def __init__(self):\n",
    "        super(Identity, self).__init__()\n",
    "    def forward(self, x):\n",
    "        return x\n",
    "\n",
    "def get_resnet15():\n",
    "    resnet15 = models.resnet18(pretrained=False)\n",
    "    resnet15.conv1 = nn.Conv2d(8, 64, kernel_size=7, stride=2, padding=3, bias=False)\n",
    "    resnet15.layer4 = nn.Sequential(*list(resnet15.layer4.children())[:1])\n",
    "    resnet15.fc = Identity()  \n",
    "    return resnet15\n",
    "\n",
    "class BarlowTwins(nn.Module):\n",
    "    def __init__(self, proj_dim=256):\n",
    "        super(BarlowTwins, self).__init__()\n",
    "        self.encoder = get_resnet15().to(DEVICE)\n",
    "        self.projection = nn.Sequential(\n",
    "            nn.Linear(512, 512),\n",
    "            nn.BatchNorm1d(512),\n",
    "            nn.ReLU(),\n",
    "            nn.Linear(512, proj_dim)\n",
    "        ).to(DEVICE)\n",
    "        \n",
    "    def forward(self, x):\n",
    "        features = self.encoder(x)\n",
    "        projection = self.projection(features)\n",
    "        return projection\n",
    "barlow_model = BarlowTwins(proj_dim=256).to(DEVICE)\n"
   ]
  },
  {
   "cell_type": "markdown",
   "metadata": {},
   "source": [
    "The Barlow Twins loss aims to enforce two properties\n",
    "Invariance: The cross-correlation's diagonal elements (i.e., the similarity between corresponding dimensions of the two views) should be close to 1.\n",
    "Redundancy Reduction: The off-diagonal elements should be close to 0, ensuring that the representations are not redundant across dimensions.\n",
    "The loss is computed as the sum of the squared difference between the diagonal elements and 1, plus a weighted sum of the squared off-diagonal elements. The hyperparameter lambd scales the off-diagonal penalty.**"
   ]
  },
  {
   "cell_type": "code",
   "execution_count": 11,
   "metadata": {
    "execution": {
     "iopub.execute_input": "2025-03-22T10:54:49.096911Z",
     "iopub.status.busy": "2025-03-22T10:54:49.096636Z",
     "iopub.status.idle": "2025-03-22T10:54:49.102334Z",
     "shell.execute_reply": "2025-03-22T10:54:49.101609Z",
     "shell.execute_reply.started": "2025-03-22T10:54:49.096890Z"
    },
    "trusted": true
   },
   "outputs": [],
   "source": [
    "def barlow_twins_loss(z_a, z_b, lambd=5e-3):\n",
    "    z_a_norm = (z_a - z_a.mean(0)) / z_a.std(0)\n",
    "    z_b_norm = (z_b - z_b.mean(0)) / z_b.std(0)\n",
    "    \n",
    "    batch_size = z_a.size(0)\n",
    "    c = torch.mm(z_a_norm.T, z_b_norm) / batch_size  \n",
    "    on_diag = torch.diagonal(c).add_(-1).pow(2).sum()\n",
    "    off_diag = off_diagonal(c).pow(2).sum()\n",
    "    loss = on_diag + lambd * off_diag\n",
    "    return loss\n",
    "\n",
    "def off_diagonal(x):\n",
    "\n",
    "    n, m = x.shape\n",
    "    assert n == m\n",
    "    return x.flatten()[:-1].view(n - 1, n + 1)[:, 1:].flatten()\n"
   ]
  },
  {
   "cell_type": "code",
   "execution_count": 12,
   "metadata": {
    "execution": {
     "iopub.execute_input": "2025-03-22T10:54:49.103560Z",
     "iopub.status.busy": "2025-03-22T10:54:49.103251Z",
     "iopub.status.idle": "2025-03-22T11:45:51.520770Z",
     "shell.execute_reply": "2025-03-22T11:45:51.517288Z",
     "shell.execute_reply.started": "2025-03-22T10:54:49.103528Z"
    },
    "trusted": true
   },
   "outputs": [
    {
     "name": "stderr",
     "output_type": "stream",
     "text": [
      "/usr/local/lib/python3.10/dist-packages/torch/optim/lr_scheduler.py:62: UserWarning: The verbose parameter is deprecated. Please use get_last_lr() to access the learning rate.\n",
      "  warnings.warn(\n",
      "Barlow Twins Pretraining Epoch 1/10: 100%|██████████| 7500/7500 [06:18<00:00, 19.79it/s]\n"
     ]
    },
    {
     "name": "stdout",
     "output_type": "stream",
     "text": [
      "Epoch 1 completed in 6.316 mins, Avg Loss: 46.1677\n"
     ]
    },
    {
     "name": "stderr",
     "output_type": "stream",
     "text": [
      "Barlow Twins Pretraining Epoch 2/10: 100%|██████████| 7500/7500 [05:18<00:00, 23.55it/s]\n"
     ]
    },
    {
     "name": "stdout",
     "output_type": "stream",
     "text": [
      "Epoch 2 completed in 5.308 mins, Avg Loss: 41.3044\n"
     ]
    },
    {
     "name": "stderr",
     "output_type": "stream",
     "text": [
      "Barlow Twins Pretraining Epoch 3/10: 100%|██████████| 7500/7500 [05:10<00:00, 24.18it/s]\n"
     ]
    },
    {
     "name": "stdout",
     "output_type": "stream",
     "text": [
      "Epoch 3 completed in 5.170 mins, Avg Loss: 40.3630\n"
     ]
    },
    {
     "name": "stderr",
     "output_type": "stream",
     "text": [
      "Barlow Twins Pretraining Epoch 4/10: 100%|██████████| 7500/7500 [04:59<00:00, 25.00it/s]\n"
     ]
    },
    {
     "name": "stdout",
     "output_type": "stream",
     "text": [
      "Epoch 4 completed in 4.999 mins, Avg Loss: 39.9840\n"
     ]
    },
    {
     "name": "stderr",
     "output_type": "stream",
     "text": [
      "Barlow Twins Pretraining Epoch 5/10: 100%|██████████| 7500/7500 [04:54<00:00, 25.49it/s]\n"
     ]
    },
    {
     "name": "stdout",
     "output_type": "stream",
     "text": [
      "Epoch 5 completed in 4.903 mins, Avg Loss: 39.7522\n"
     ]
    },
    {
     "name": "stderr",
     "output_type": "stream",
     "text": [
      "Barlow Twins Pretraining Epoch 6/10: 100%|██████████| 7500/7500 [04:48<00:00, 25.96it/s]\n"
     ]
    },
    {
     "name": "stdout",
     "output_type": "stream",
     "text": [
      "Epoch 6 completed in 4.816 mins, Avg Loss: 39.5299\n"
     ]
    },
    {
     "name": "stderr",
     "output_type": "stream",
     "text": [
      "Barlow Twins Pretraining Epoch 7/10: 100%|██████████| 7500/7500 [04:46<00:00, 26.13it/s]\n"
     ]
    },
    {
     "name": "stdout",
     "output_type": "stream",
     "text": [
      "Epoch 7 completed in 4.783 mins, Avg Loss: 39.5174\n"
     ]
    },
    {
     "name": "stderr",
     "output_type": "stream",
     "text": [
      "Barlow Twins Pretraining Epoch 8/10: 100%|██████████| 7500/7500 [04:47<00:00, 26.07it/s]\n"
     ]
    },
    {
     "name": "stdout",
     "output_type": "stream",
     "text": [
      "Epoch 8 completed in 4.795 mins, Avg Loss: 39.4011\n"
     ]
    },
    {
     "name": "stderr",
     "output_type": "stream",
     "text": [
      "Barlow Twins Pretraining Epoch 9/10: 100%|██████████| 7500/7500 [04:58<00:00, 25.09it/s]\n"
     ]
    },
    {
     "name": "stdout",
     "output_type": "stream",
     "text": [
      "Epoch 9 completed in 4.983 mins, Avg Loss: 39.3603\n"
     ]
    },
    {
     "name": "stderr",
     "output_type": "stream",
     "text": [
      "Barlow Twins Pretraining Epoch 10/10: 100%|██████████| 7500/7500 [04:57<00:00, 25.22it/s]\n"
     ]
    },
    {
     "name": "stdout",
     "output_type": "stream",
     "text": [
      "Epoch 10 completed in 4.956 mins, Avg Loss: 39.3045\n",
      "Barlow Twins Pretraining completed and model saved as barlow_pretrained_resnet15.pth.\n"
     ]
    },
    {
     "data": {
      "image/png": "[encoded data removed]",
      "text/plain": [
       "<Figure size 800x500 with 1 Axes>"
      ]
     },
     "metadata": {},
     "output_type": "display_data"
    }
   ],
   "source": [
    "optimizer_barlow = optim.Adam(barlow_model.parameters(), lr=1e-3)\n",
    "scheduler_barlow = torch.optim.lr_scheduler.ReduceLROnPlateau(optimizer_barlow, mode='min', factor=0.5, patience=2, verbose=True)\n",
    "\n",
    "pretrain_epochs = 10\n",
    "barlow_losses = []\n",
    "barlow_model.train()\n",
    "\n",
    "for epoch in range(pretrain_epochs):\n",
    "    t0 = time.time()\n",
    "    running_loss = 0.0\n",
    "    num_batches = 0\n",
    "    for view1, view2 in tqdm(unlabelled_loader, desc=f\"Barlow Twins Pretraining Epoch {epoch+1}/{pretrain_epochs}\"):\n",
    "        view1, view2 = view1.to(DEVICE), view2.to(DEVICE)\n",
    "        z_a = barlow_model(view1)\n",
    "        z_b = barlow_model(view2)\n",
    "        loss = barlow_twins_loss(z_a, z_b, lambd=5e-3)\n",
    "        \n",
    "        optimizer_barlow.zero_grad()\n",
    "        loss.backward()\n",
    "        optimizer_barlow.step()\n",
    "        \n",
    "        running_loss += loss.item()\n",
    "        num_batches += 1\n",
    "    avg_loss = running_loss / num_batches\n",
    "    barlow_losses.append(avg_loss)\n",
    "    scheduler_barlow.step(avg_loss)\n",
    "    print(f\"Epoch {epoch+1} completed in {(time.time()-t0)/60:.3f} mins, Avg Loss: {avg_loss:.4f}\")\n",
    "    torch.cuda.empty_cache()\n",
    "torch.save(barlow_model.state_dict(), \"barlow_pretrained_resnet15.pth\")\n",
    "print(\"Barlow Twins Pretraining completed and model saved as barlow_pretrained_resnet15.pth.\")\n",
    "\n",
    "plt.figure(figsize=(8,5))\n",
    "plt.plot(range(1, pretrain_epochs+1), barlow_losses, marker='o')\n",
    "plt.title(\"Barlow Twins Pretraining Loss \")\n",
    "plt.xlabel(\"Epoch\")\n",
    "plt.ylabel(\"Loss\")\n",
    "plt.grid(True)\n",
    "plt.show()\n"
   ]
  },
  {
   "cell_type": "code",
   "execution_count": 13,
   "metadata": {
    "execution": {
     "iopub.execute_input": "2025-03-22T11:45:51.527812Z",
     "iopub.status.busy": "2025-03-22T11:45:51.527557Z",
     "iopub.status.idle": "2025-03-22T11:45:51.562391Z",
     "shell.execute_reply": "2025-03-22T11:45:51.561262Z",
     "shell.execute_reply.started": "2025-03-22T11:45:51.527771Z"
    },
    "trusted": true
   },
   "outputs": [
    {
     "name": "stdout",
     "output_type": "stream",
     "text": [
      "Total labelled dataset size: 10000\n",
      "Train samples: 8000 Test samples: 2000\n"
     ]
    }
   ],
   "source": [
    "class H5LabelledDataset(Dataset):\n",
    "    def __init__(self, h5_path, transform=None):\n",
    "        self.h5_path = h5_path\n",
    "        self.transform = transform\n",
    "        self.h5_file = None\n",
    "        with h5py.File(self.h5_path, 'r') as f:\n",
    "            self.length = f['jet'].shape[0]\n",
    "\n",
    "    def __len__(self):\n",
    "        return self.length\n",
    "\n",
    "    def __getitem__(self, idx):\n",
    "        if self.h5_file is None:\n",
    "            self.h5_file = h5py.File(self.h5_path, 'r')\n",
    "        image = self.h5_file['jet'][idx]\n",
    "        image = torch.tensor(image, dtype=torch.float32).permute(2, 0, 1)\n",
    "        if self.transform is not None:\n",
    "            image = self.transform(image)\n",
    "        y = int(self.h5_file['Y'][idx][0])\n",
    "        m = self.h5_file['m'][idx]\n",
    "        pt = self.h5_file['pT'][idx]\n",
    "        reg_target = torch.tensor(np.concatenate([m, pt], axis=0), dtype=torch.float32)\n",
    "        return image, y, reg_target\n",
    "\n",
    "    def __del__(self):\n",
    "        if self.h5_file is not None:\n",
    "            self.h5_file.close()\n",
    "labelled_h5_path = \"/kaggle/input/data2-st/specific-labelled2/content/Dataset_Specific_labelled_full_only_for_2i.h5\"\n",
    "full_labelled_dataset = H5LabelledDataset(h5_path=labelled_h5_path, transform=barlow_transform)\n",
    "print(\"Total labelled dataset size:\", len(full_labelled_dataset))\n",
    "total_len = len(full_labelled_dataset)\n",
    "train_len = int(0.8 * total_len)\n",
    "test_len = total_len - train_len\n",
    "train_dataset, test_dataset = random_split(full_labelled_dataset, [train_len, test_len])\n",
    "print(\"Train samples:\", len(train_dataset), \"Test samples:\", len(test_dataset))\n",
    "\n",
    "BATCH_SZ_LABELLED = 64\n",
    "train_loader_labelled = DataLoader(train_dataset, batch_size=BATCH_SZ_LABELLED, shuffle=True, drop_last=True, pin_memory=True)\n",
    "test_loader_labelled = DataLoader(test_dataset, batch_size=BATCH_SZ_LABELLED, shuffle=False, drop_last=False, pin_memory=True)\n"
   ]
  },
  {
   "cell_type": "code",
   "execution_count": 14,
   "metadata": {
    "execution": {
     "iopub.execute_input": "2025-03-22T11:45:51.564277Z",
     "iopub.status.busy": "2025-03-22T11:45:51.563938Z",
     "iopub.status.idle": "2025-03-22T11:45:51.586518Z",
     "shell.execute_reply": "2025-03-22T11:45:51.585778Z",
     "shell.execute_reply.started": "2025-03-22T11:45:51.564243Z"
    },
    "trusted": true
   },
   "outputs": [],
   "source": [
    "class FineTuneClassifier(nn.Module):\n",
    "    def __init__(self, pretrained_model, num_classes=2):\n",
    "        super().__init__()\n",
    "        self.encoder = pretrained_model.encoder  \n",
    "        self.linear = nn.Linear(512, num_classes)\n",
    "        \n",
    "    def forward(self, x):\n",
    "        features = self.encoder(x)\n",
    "        return self.linear(features)\n",
    "class FineTuneRegressor(nn.Module):\n",
    "    def __init__(self, pretrained_model, out_dim=2):\n",
    "        super().__init__()\n",
    "        self.encoder = pretrained_model.encoder\n",
    "        self.regressor = nn.Linear(512, out_dim)\n",
    "        \n",
    "    def forward(self, x):\n",
    "        features = self.encoder(x)\n",
    "        return self.regressor(features)\n"
   ]
  },
  {
   "cell_type": "code",
   "execution_count": 24,
   "metadata": {
    "execution": {
     "iopub.execute_input": "2025-03-22T12:27:32.202130Z",
     "iopub.status.busy": "2025-03-22T12:27:32.201732Z",
     "iopub.status.idle": "2025-03-22T12:30:36.725842Z",
     "shell.execute_reply": "2025-03-22T12:30:36.725101Z",
     "shell.execute_reply.started": "2025-03-22T12:27:32.202096Z"
    },
    "trusted": true
   },
   "outputs": [
    {
     "name": "stderr",
     "output_type": "stream",
     "text": [
      "<ipython-input-24-629331bb828f>:3: FutureWarning: You are using `torch.load` with `weights_only=False` (the current default value), which uses the default pickle module implicitly. It is possible to construct malicious pickle data which will execute arbitrary code during unpickling (See https://github.com/pytorch/pytorch/blob/main/SECURITY.md#untrusted-models for more details). In a future release, the default value for `weights_only` will be flipped to `True`. This limits the functions that could be executed during unpickling. Arbitrary objects will no longer be allowed to be loaded via this mode unless they are explicitly allowlisted by the user via `torch.serialization.add_safe_globals`. We recommend you start setting `weights_only=True` for any use case where you don't have full control of the loaded file. Please open an issue on GitHub for any issues related to this experimental feature.\n",
      "  pretrained_weights = torch.load(\"barlow_pretrained_resnet15.pth\", map_location=DEVICE)\n",
      "Classification Epoch 1/10:   0%|          | 0/125 [00:00<?, ?it/s]<ipython-input-24-629331bb828f>:23: UserWarning: To copy construct from a tensor, it is recommended to use sourceTensor.clone().detach() or sourceTensor.clone().detach().requires_grad_(True), rather than torch.tensor(sourceTensor).\n",
      "  labels = torch.tensor(y, dtype=torch.long).to(DEVICE)\n",
      "Classification Epoch 1/10: 100%|██████████| 125/125 [00:18<00:00,  6.81it/s]\n"
     ]
    },
    {
     "name": "stdout",
     "output_type": "stream",
     "text": [
      "Epoch 1 Classification Loss: 0.6222\n"
     ]
    },
    {
     "name": "stderr",
     "output_type": "stream",
     "text": [
      "Classification Epoch 2/10: 100%|██████████| 125/125 [00:17<00:00,  6.96it/s]\n"
     ]
    },
    {
     "name": "stdout",
     "output_type": "stream",
     "text": [
      "Epoch 2 Classification Loss: 0.5359\n"
     ]
    },
    {
     "name": "stderr",
     "output_type": "stream",
     "text": [
      "Classification Epoch 3/10: 100%|██████████| 125/125 [00:18<00:00,  6.89it/s]\n"
     ]
    },
    {
     "name": "stdout",
     "output_type": "stream",
     "text": [
      "Epoch 3 Classification Loss: 0.4925\n"
     ]
    },
    {
     "name": "stderr",
     "output_type": "stream",
     "text": [
      "Classification Epoch 4/10: 100%|██████████| 125/125 [00:18<00:00,  6.89it/s]\n"
     ]
    },
    {
     "name": "stdout",
     "output_type": "stream",
     "text": [
      "Epoch 4 Classification Loss: 0.4662\n"
     ]
    },
    {
     "name": "stderr",
     "output_type": "stream",
     "text": [
      "Classification Epoch 5/10: 100%|██████████| 125/125 [00:17<00:00,  6.99it/s]\n"
     ]
    },
    {
     "name": "stdout",
     "output_type": "stream",
     "text": [
      "Epoch 5 Classification Loss: 0.4532\n"
     ]
    },
    {
     "name": "stderr",
     "output_type": "stream",
     "text": [
      "Classification Epoch 6/10: 100%|██████████| 125/125 [00:18<00:00,  6.87it/s]\n"
     ]
    },
    {
     "name": "stdout",
     "output_type": "stream",
     "text": [
      "Epoch 6 Classification Loss: 0.4454\n"
     ]
    },
    {
     "name": "stderr",
     "output_type": "stream",
     "text": [
      "Classification Epoch 7/10: 100%|██████████| 125/125 [00:17<00:00,  6.95it/s]\n"
     ]
    },
    {
     "name": "stdout",
     "output_type": "stream",
     "text": [
      "Epoch 7 Classification Loss: 0.4370\n"
     ]
    },
    {
     "name": "stderr",
     "output_type": "stream",
     "text": [
      "Classification Epoch 8/10: 100%|██████████| 125/125 [00:18<00:00,  6.89it/s]\n"
     ]
    },
    {
     "name": "stdout",
     "output_type": "stream",
     "text": [
      "Epoch 8 Classification Loss: 0.4319\n"
     ]
    },
    {
     "name": "stderr",
     "output_type": "stream",
     "text": [
      "Classification Epoch 9/10: 100%|██████████| 125/125 [00:17<00:00,  7.00it/s]\n"
     ]
    },
    {
     "name": "stdout",
     "output_type": "stream",
     "text": [
      "Epoch 9 Classification Loss: 0.4284\n"
     ]
    },
    {
     "name": "stderr",
     "output_type": "stream",
     "text": [
      "Classification Epoch 10/10: 100%|██████████| 125/125 [00:18<00:00,  6.90it/s]\n",
      "<ipython-input-24-629331bb828f>:41: UserWarning: To copy construct from a tensor, it is recommended to use sourceTensor.clone().detach() or sourceTensor.clone().detach().requires_grad_(True), rather than torch.tensor(sourceTensor).\n",
      "  labels = torch.tensor(y, dtype=torch.long).to(DEVICE)\n"
     ]
    },
    {
     "name": "stdout",
     "output_type": "stream",
     "text": [
      "Epoch 10 Classification Loss: 0.4265\n",
      "Fine-tuned (Pretrained) Classification Accuracy: 83.35%\n"
     ]
    },
    {
     "data": {
      "image/png": "[encoded data removed]",
      "text/plain": [
       "<Figure size 800x500 with 1 Axes>"
      ]
     },
     "metadata": {},
     "output_type": "display_data"
    }
   ],
   "source": [
    "pretrained_weights = torch.load(\"barlow_pretrained_resnet15.pth\", map_location=DEVICE)\n",
    "barlow_model.load_state_dict(pretrained_weights)\n",
    "\n",
    "clf_model = FineTuneClassifier(barlow_model).to(DEVICE)\n",
    "criterion_clf = nn.CrossEntropyLoss()\n",
    "\n",
    "optimizer_clf = optim.Adam([\n",
    "    {'params': clf_model.encoder.parameters(), 'lr': 1e-5},\n",
    "    {'params': clf_model.linear.parameters(), 'lr': 1e-4}\n",
    "])\n",
    "scheduler_clf = torch.optim.lr_scheduler.ReduceLROnPlateau(optimizer_clf, mode='min', factor=0.5, patience=2, verbose=True)\n",
    "\n",
    "num_epochs_cls = 10\n",
    "cls_losses = []\n",
    "clf_model.train()\n",
    "\n",
    "for epoch in range(num_epochs_cls):\n",
    "    running_loss = 0.0\n",
    "    for images, y, _ in tqdm(train_loader_labelled, desc=f\"Classification Epoch {epoch+1}/{num_epochs_cls}\"):\n",
    "        images = images.to(DEVICE)\n",
    "        labels = torch.tensor(y, dtype=torch.long).to(DEVICE)\n",
    "        outputs = clf_model(images)\n",
    "        loss = criterion_clf(outputs, labels)\n",
    "        optimizer_clf.zero_grad()\n",
    "        loss.backward()\n",
    "        optimizer_clf.step()\n",
    "        running_loss += loss.item()\n",
    "    avg_loss = running_loss / len(train_loader_labelled)\n",
    "    cls_losses.append(avg_loss)\n",
    "    scheduler_clf.step(avg_loss)\n",
    "    print(f\"Epoch {epoch+1} Classification Loss: {avg_loss:.4f}\")\n",
    "\n",
    "clf_model.eval()\n",
    "correct, total = 0, 0\n",
    "with torch.no_grad():\n",
    "    for images, y, _ in test_loader_labelled:\n",
    "        images = images.to(DEVICE)\n",
    "        labels = torch.tensor(y, dtype=torch.long).to(DEVICE)\n",
    "        outputs = clf_model(images)\n",
    "        preds = outputs.argmax(dim=1)\n",
    "        total += labels.size(0)\n",
    "        correct += (preds == labels).sum().item()\n",
    "clf_acc = 100 * correct / total\n",
    "print(f\"Fine-tuned (Pretrained) Classification Accuracy: {clf_acc:.2f}%\")\n",
    "\n",
    "plt.figure(figsize=(8,5))\n",
    "plt.plot(range(1, num_epochs_cls+1), cls_losses, marker='o', color='orange')\n",
    "plt.title(\"Fine-Tuning Classification Loss\")\n",
    "plt.xlabel(\"Epoch\")\n",
    "plt.ylabel(\"Loss\")\n",
    "plt.grid(True)\n",
    "plt.show()\n"
   ]
  },
  {
   "cell_type": "code",
   "execution_count": 16,
   "metadata": {
    "execution": {
     "iopub.execute_input": "2025-03-22T11:50:18.509139Z",
     "iopub.status.busy": "2025-03-22T11:50:18.508856Z",
     "iopub.status.idle": "2025-03-22T11:53:24.603084Z",
     "shell.execute_reply": "2025-03-22T11:53:24.602233Z",
     "shell.execute_reply.started": "2025-03-22T11:50:18.509115Z"
    },
    "trusted": true
   },
   "outputs": [
    {
     "name": "stderr",
     "output_type": "stream",
     "text": [
      "Regression Epoch 1/10: 100%|██████████| 125/125 [00:18<00:00,  6.83it/s]\n"
     ]
    },
    {
     "name": "stdout",
     "output_type": "stream",
     "text": [
      "Epoch 1 Regression Loss: 154081.6055\n"
     ]
    },
    {
     "name": "stderr",
     "output_type": "stream",
     "text": [
      "Regression Epoch 2/10: 100%|██████████| 125/125 [00:18<00:00,  6.80it/s]\n"
     ]
    },
    {
     "name": "stdout",
     "output_type": "stream",
     "text": [
      "Epoch 2 Regression Loss: 153749.8018\n"
     ]
    },
    {
     "name": "stderr",
     "output_type": "stream",
     "text": [
      "Regression Epoch 3/10: 100%|██████████| 125/125 [00:18<00:00,  6.88it/s]\n"
     ]
    },
    {
     "name": "stdout",
     "output_type": "stream",
     "text": [
      "Epoch 3 Regression Loss: 153400.1381\n"
     ]
    },
    {
     "name": "stderr",
     "output_type": "stream",
     "text": [
      "Regression Epoch 4/10: 100%|██████████| 125/125 [00:18<00:00,  6.89it/s]\n"
     ]
    },
    {
     "name": "stdout",
     "output_type": "stream",
     "text": [
      "Epoch 4 Regression Loss: 153028.3365\n"
     ]
    },
    {
     "name": "stderr",
     "output_type": "stream",
     "text": [
      "Regression Epoch 5/10: 100%|██████████| 125/125 [00:18<00:00,  6.90it/s]\n"
     ]
    },
    {
     "name": "stdout",
     "output_type": "stream",
     "text": [
      "Epoch 5 Regression Loss: 152637.3734\n"
     ]
    },
    {
     "name": "stderr",
     "output_type": "stream",
     "text": [
      "Regression Epoch 6/10: 100%|██████████| 125/125 [00:18<00:00,  6.79it/s]\n"
     ]
    },
    {
     "name": "stdout",
     "output_type": "stream",
     "text": [
      "Epoch 6 Regression Loss: 152220.1609\n"
     ]
    },
    {
     "name": "stderr",
     "output_type": "stream",
     "text": [
      "Regression Epoch 7/10: 100%|██████████| 125/125 [00:18<00:00,  6.84it/s]\n"
     ]
    },
    {
     "name": "stdout",
     "output_type": "stream",
     "text": [
      "Epoch 7 Regression Loss: 151779.3965\n"
     ]
    },
    {
     "name": "stderr",
     "output_type": "stream",
     "text": [
      "Regression Epoch 8/10: 100%|██████████| 125/125 [00:18<00:00,  6.94it/s]\n"
     ]
    },
    {
     "name": "stdout",
     "output_type": "stream",
     "text": [
      "Epoch 8 Regression Loss: 151315.9452\n"
     ]
    },
    {
     "name": "stderr",
     "output_type": "stream",
     "text": [
      "Regression Epoch 9/10: 100%|██████████| 125/125 [00:18<00:00,  6.80it/s]\n"
     ]
    },
    {
     "name": "stdout",
     "output_type": "stream",
     "text": [
      "Epoch 9 Regression Loss: 150840.5190\n"
     ]
    },
    {
     "name": "stderr",
     "output_type": "stream",
     "text": [
      "Regression Epoch 10/10: 100%|██████████| 125/125 [00:18<00:00,  6.93it/s]\n"
     ]
    },
    {
     "name": "stdout",
     "output_type": "stream",
     "text": [
      "Epoch 10 Regression Loss: 150333.8729\n",
      "Fine-tuned (Pretrained) Regression MSE: 144999.0938\n"
     ]
    },
    {
     "data": {
      "image/png": "[encoded data removed]",
      "text/plain": [
       "<Figure size 800x500 with 1 Axes>"
      ]
     },
     "metadata": {},
     "output_type": "display_data"
    }
   ],
   "source": [
    "\n",
    "reg_model = FineTuneRegressor(barlow_model).to(DEVICE)\n",
    "criterion_reg = nn.MSELoss()\n",
    "\n",
    "optimizer_reg = optim.Adam([\n",
    "    {'params': reg_model.encoder.parameters(), 'lr': 1e-5},\n",
    "    {'params': reg_model.regressor.parameters(), 'lr': 1e-4}\n",
    "])\n",
    "scheduler_reg = torch.optim.lr_scheduler.ReduceLROnPlateau(optimizer_reg, mode='min', factor=0.5, patience=2, verbose=True)\n",
    "\n",
    "num_epochs_reg = 10\n",
    "reg_losses = []\n",
    "reg_model.train()\n",
    "\n",
    "for epoch in range(num_epochs_reg):\n",
    "    running_loss = 0.0\n",
    "    for images, _, reg_targets in tqdm(train_loader_labelled, desc=f\"Regression Epoch {epoch+1}/{num_epochs_reg}\"):\n",
    "        images = images.to(DEVICE)\n",
    "        reg_targets = reg_targets.to(DEVICE)\n",
    "        outputs = reg_model(images)\n",
    "        loss = criterion_reg(outputs, reg_targets)\n",
    "        optimizer_reg.zero_grad()\n",
    "        loss.backward()\n",
    "        optimizer_reg.step()\n",
    "        running_loss += loss.item()\n",
    "    avg_loss = running_loss / len(train_loader_labelled)\n",
    "    reg_losses.append(avg_loss)\n",
    "    scheduler_reg.step(avg_loss)\n",
    "    print(f\"Epoch {epoch+1} Regression Loss: {avg_loss:.4f}\")\n",
    "reg_model.eval()\n",
    "total_loss = 0.0\n",
    "with torch.no_grad():\n",
    "    for images, _, reg_targets in test_loader_labelled:\n",
    "        images = images.to(DEVICE)\n",
    "        reg_targets = reg_targets.to(DEVICE)\n",
    "        outputs = reg_model(images)\n",
    "        loss = criterion_reg(outputs, reg_targets)\n",
    "        total_loss += loss.item() * images.size(0)\n",
    "avg_mse = total_loss / len(test_dataset)\n",
    "print(f\"Fine-tuned (Pretrained) Regression MSE: {avg_mse:.4f}\")\n",
    "\n",
    "plt.figure(figsize=(8,5))\n",
    "plt.plot(range(1, num_epochs_reg+1), reg_losses, marker='o', color='green')\n",
    "plt.title(\"Fine-Tuning Regression \")\n",
    "plt.xlabel(\"Epoch\")\n",
    "plt.ylabel(\"Loss\")\n",
    "plt.grid(True)\n",
    "plt.show()\n"
   ]
  },
  {
   "cell_type": "markdown",
   "metadata": {},
   "source": [
    "i have implemented a vgg 11 model for comparison"
   ]
  },
  {
   "cell_type": "code",
   "execution_count": 17,
   "metadata": {
    "execution": {
     "iopub.execute_input": "2025-03-22T11:53:24.604102Z",
     "iopub.status.busy": "2025-03-22T11:53:24.603804Z",
     "iopub.status.idle": "2025-03-22T11:53:24.613347Z",
     "shell.execute_reply": "2025-03-22T11:53:24.612326Z",
     "shell.execute_reply.started": "2025-03-22T11:53:24.604079Z"
    },
    "trusted": true
   },
   "outputs": [],
   "source": [
    "class VGG(nn.Module):\n",
    "    def __init__(self, num_classes=2, regression_out=2, mode='classification'):\n",
    "        super(VGG, self).__init__()\n",
    "        self.features = nn.Sequential(\n",
    "            nn.Conv2d(8, 64, kernel_size=3, padding=1),\n",
    "            nn.ReLU(inplace=True),\n",
    "            nn.MaxPool2d(kernel_size=2, stride=2),\n",
    "            nn.Conv2d(64, 128, kernel_size=3, padding=1),\n",
    "            nn.ReLU(inplace=True),\n",
    "            nn.MaxPool2d(kernel_size=2, stride=2),\n",
    "\n",
    "            nn.Conv2d(128, 256, kernel_size=3, padding=1),\n",
    "            nn.ReLU(inplace=True),\n",
    "            nn.Conv2d(256, 256, kernel_size=3, padding=1),\n",
    "            nn.ReLU(inplace=True),\n",
    "            nn.MaxPool2d(kernel_size=2, stride=2),\n",
    "            nn.Conv2d(256, 512, kernel_size=3, padding=1),\n",
    "            nn.ReLU(inplace=True),\n",
    "            nn.Conv2d(512, 512, kernel_size=3, padding=1),\n",
    "            nn.ReLU(inplace=True),\n",
    "            nn.MaxPool2d(kernel_size=2, stride=2),\n",
    "\n",
    "            nn.Conv2d(512, 512, kernel_size=3, padding=1),\n",
    "            nn.ReLU(inplace=True),\n",
    "            nn.Conv2d(512, 512, kernel_size=3, padding=1),\n",
    "            nn.ReLU(inplace=True),\n",
    "            nn.MaxPool2d(kernel_size=2, stride=2)\n",
    "        )\n",
    "        self.avgpool = nn.AdaptiveAvgPool2d((3,3))\n",
    "        self.mode = mode\n",
    "        if mode == 'classification':\n",
    "            self.classifier = nn.Sequential(\n",
    "                nn.Linear(512 * 3 * 3, 4096),\n",
    "                nn.ReLU(inplace=True),\n",
    "                nn.Dropout(),\n",
    "                nn.Linear(4096, 4096),\n",
    "                nn.ReLU(inplace=True),\n",
    "                nn.Dropout(),\n",
    "                nn.Linear(4096, num_classes)\n",
    "            )\n",
    "        else:  \n",
    "            self.regressor = nn.Sequential(\n",
    "                nn.Linear(512 * 3 * 3, 4096),\n",
    "                nn.ReLU(inplace=True),\n",
    "                nn.Dropout(),\n",
    "                nn.Linear(4096, 4096),\n",
    "                nn.ReLU(inplace=True),\n",
    "                nn.Dropout(),\n",
    "                nn.Linear(4096, regression_out)\n",
    "            )\n",
    "    def forward(self, x):\n",
    "        x = self.features(x)\n",
    "        x = self.avgpool(x)\n",
    "        x = torch.flatten(x, 1)\n",
    "        if self.mode == 'classification':\n",
    "            x = self.classifier(x)\n",
    "        else:\n",
    "            x = self.regressor(x)\n",
    "        return x\n"
   ]
  },
  {
   "cell_type": "code",
   "execution_count": 18,
   "metadata": {
    "execution": {
     "iopub.execute_input": "2025-03-22T11:53:24.614671Z",
     "iopub.status.busy": "2025-03-22T11:53:24.614356Z",
     "iopub.status.idle": "2025-03-22T11:58:06.160474Z",
     "shell.execute_reply": "2025-03-22T11:58:06.159724Z",
     "shell.execute_reply.started": "2025-03-22T11:53:24.614638Z"
    },
    "trusted": true
   },
   "outputs": [
    {
     "name": "stderr",
     "output_type": "stream",
     "text": [
      "VGG Classification Epoch 1/10:   0%|          | 0/125 [00:00<?, ?it/s]<ipython-input-18-822824c94d8f>:12: UserWarning: To copy construct from a tensor, it is recommended to use sourceTensor.clone().detach() or sourceTensor.clone().detach().requires_grad_(True), rather than torch.tensor(sourceTensor).\n",
      "  labels = torch.tensor(y, dtype=torch.long).to(DEVICE)\n",
      "VGG Classification Epoch 1/10: 100%|██████████| 125/125 [00:28<00:00,  4.45it/s]\n"
     ]
    },
    {
     "name": "stdout",
     "output_type": "stream",
     "text": [
      "Epoch 1 VGG Classification Loss: 0.8688\n"
     ]
    },
    {
     "name": "stderr",
     "output_type": "stream",
     "text": [
      "VGG Classification Epoch 2/10: 100%|██████████| 125/125 [00:27<00:00,  4.50it/s]\n"
     ]
    },
    {
     "name": "stdout",
     "output_type": "stream",
     "text": [
      "Epoch 2 VGG Classification Loss: 0.8032\n"
     ]
    },
    {
     "name": "stderr",
     "output_type": "stream",
     "text": [
      "VGG Classification Epoch 3/10: 100%|██████████| 125/125 [00:27<00:00,  4.54it/s]\n"
     ]
    },
    {
     "name": "stdout",
     "output_type": "stream",
     "text": [
      "Epoch 3 VGG Classification Loss: 0.6936\n"
     ]
    },
    {
     "name": "stderr",
     "output_type": "stream",
     "text": [
      "VGG Classification Epoch 4/10: 100%|██████████| 125/125 [00:27<00:00,  4.52it/s]\n"
     ]
    },
    {
     "name": "stdout",
     "output_type": "stream",
     "text": [
      "Epoch 4 VGG Classification Loss: 0.6932\n"
     ]
    },
    {
     "name": "stderr",
     "output_type": "stream",
     "text": [
      "VGG Classification Epoch 5/10: 100%|██████████| 125/125 [00:27<00:00,  4.51it/s]\n"
     ]
    },
    {
     "name": "stdout",
     "output_type": "stream",
     "text": [
      "Epoch 5 VGG Classification Loss: 0.6931\n"
     ]
    },
    {
     "name": "stderr",
     "output_type": "stream",
     "text": [
      "VGG Classification Epoch 6/10: 100%|██████████| 125/125 [00:27<00:00,  4.52it/s]\n"
     ]
    },
    {
     "name": "stdout",
     "output_type": "stream",
     "text": [
      "Epoch 6 VGG Classification Loss: 0.6931\n"
     ]
    },
    {
     "name": "stderr",
     "output_type": "stream",
     "text": [
      "VGG Classification Epoch 7/10: 100%|██████████| 125/125 [00:27<00:00,  4.50it/s]\n"
     ]
    },
    {
     "name": "stdout",
     "output_type": "stream",
     "text": [
      "Epoch 7 VGG Classification Loss: 0.7001\n"
     ]
    },
    {
     "name": "stderr",
     "output_type": "stream",
     "text": [
      "VGG Classification Epoch 8/10: 100%|██████████| 125/125 [00:27<00:00,  4.54it/s]\n"
     ]
    },
    {
     "name": "stdout",
     "output_type": "stream",
     "text": [
      "Epoch 8 VGG Classification Loss: 0.6937\n"
     ]
    },
    {
     "name": "stderr",
     "output_type": "stream",
     "text": [
      "VGG Classification Epoch 9/10: 100%|██████████| 125/125 [00:27<00:00,  4.55it/s]\n"
     ]
    },
    {
     "name": "stdout",
     "output_type": "stream",
     "text": [
      "Epoch 9 VGG Classification Loss: 0.6936\n"
     ]
    },
    {
     "name": "stderr",
     "output_type": "stream",
     "text": [
      "VGG Classification Epoch 10/10: 100%|██████████| 125/125 [00:27<00:00,  4.57it/s]\n",
      "<ipython-input-18-822824c94d8f>:28: UserWarning: To copy construct from a tensor, it is recommended to use sourceTensor.clone().detach() or sourceTensor.clone().detach().requires_grad_(True), rather than torch.tensor(sourceTensor).\n",
      "  labels = torch.tensor(y, dtype=torch.long).to(DEVICE)\n"
     ]
    },
    {
     "name": "stdout",
     "output_type": "stream",
     "text": [
      "Epoch 10 VGG Classification Loss: 0.6931\n",
      "Scratch VGG Classification Accuracy: 50.90%\n"
     ]
    }
   ],
   "source": [
    "vgg_classifier = VGG(num_classes=2, mode='classification').to(DEVICE)\n",
    "criterion_vgg_clf = nn.CrossEntropyLoss()\n",
    "optimizer_vgg_clf = optim.Adam(vgg_classifier.parameters(), lr=1e-3)\n",
    "num_epochs_vgg_cls = 10\n",
    "\n",
    "vgg_cls_losses = []\n",
    "vgg_classifier.train()\n",
    "for epoch in range(num_epochs_vgg_cls):\n",
    "    running_loss = 0.0\n",
    "    for images, y, _ in tqdm(train_loader_labelled, desc=f\"VGG Classification Epoch {epoch+1}/{num_epochs_vgg_cls}\"):\n",
    "        images = images.to(DEVICE)\n",
    "        labels = torch.tensor(y, dtype=torch.long).to(DEVICE)\n",
    "        outputs = vgg_classifier(images)\n",
    "        loss = criterion_vgg_clf(outputs, labels)\n",
    "        optimizer_vgg_clf.zero_grad()\n",
    "        loss.backward()\n",
    "        optimizer_vgg_clf.step()\n",
    "        running_loss += loss.item()\n",
    "    avg_loss = running_loss / len(train_loader_labelled)\n",
    "    vgg_cls_losses.append(avg_loss)\n",
    "    print(f\"Epoch {epoch+1} VGG Classification Loss: {avg_loss:.4f}\")\n",
    "\n",
    "vgg_classifier.eval()\n",
    "correct, total = 0, 0\n",
    "with torch.no_grad():\n",
    "    for images, y, _ in test_loader_labelled:\n",
    "        images = images.to(DEVICE)\n",
    "        labels = torch.tensor(y, dtype=torch.long).to(DEVICE)\n",
    "        outputs = vgg_classifier(images)\n",
    "        preds = outputs.argmax(dim=1)\n",
    "        total += labels.size(0)\n",
    "        correct += (preds == labels).sum().item()\n",
    "vgg_cls_acc = 100 * correct / total\n",
    "print(f\"Scratch VGG Classification Accuracy: {vgg_cls_acc:.2f}%\")\n",
    "torch.save(vgg_classifier.state_dict(), \"scratch_vgg_classifier.pth\")\n",
    "\n"
   ]
  },
  {
   "cell_type": "code",
   "execution_count": 19,
   "metadata": {
    "execution": {
     "iopub.execute_input": "2025-03-22T11:58:06.161525Z",
     "iopub.status.busy": "2025-03-22T11:58:06.161294Z",
     "iopub.status.idle": "2025-03-22T12:02:48.615844Z",
     "shell.execute_reply": "2025-03-22T12:02:48.615007Z",
     "shell.execute_reply.started": "2025-03-22T11:58:06.161505Z"
    },
    "trusted": true
   },
   "outputs": [
    {
     "name": "stderr",
     "output_type": "stream",
     "text": [
      "VGG Regression Epoch 1/10: 100%|██████████| 125/125 [00:27<00:00,  4.48it/s]\n"
     ]
    },
    {
     "name": "stdout",
     "output_type": "stream",
     "text": [
      "Epoch 1 VGG Regression Loss: 63909.5089\n"
     ]
    },
    {
     "name": "stderr",
     "output_type": "stream",
     "text": [
      "VGG Regression Epoch 2/10: 100%|██████████| 125/125 [00:27<00:00,  4.51it/s]\n"
     ]
    },
    {
     "name": "stdout",
     "output_type": "stream",
     "text": [
      "Epoch 2 VGG Regression Loss: 10484.6019\n"
     ]
    },
    {
     "name": "stderr",
     "output_type": "stream",
     "text": [
      "VGG Regression Epoch 3/10: 100%|██████████| 125/125 [00:27<00:00,  4.53it/s]\n"
     ]
    },
    {
     "name": "stdout",
     "output_type": "stream",
     "text": [
      "Epoch 3 VGG Regression Loss: 9148.5902\n"
     ]
    },
    {
     "name": "stderr",
     "output_type": "stream",
     "text": [
      "VGG Regression Epoch 4/10: 100%|██████████| 125/125 [00:27<00:00,  4.49it/s]\n"
     ]
    },
    {
     "name": "stdout",
     "output_type": "stream",
     "text": [
      "Epoch 4 VGG Regression Loss: 9320.3866\n"
     ]
    },
    {
     "name": "stderr",
     "output_type": "stream",
     "text": [
      "VGG Regression Epoch 5/10: 100%|██████████| 125/125 [00:27<00:00,  4.50it/s]\n"
     ]
    },
    {
     "name": "stdout",
     "output_type": "stream",
     "text": [
      "Epoch 5 VGG Regression Loss: 8329.3094\n"
     ]
    },
    {
     "name": "stderr",
     "output_type": "stream",
     "text": [
      "VGG Regression Epoch 6/10: 100%|██████████| 125/125 [00:27<00:00,  4.49it/s]\n"
     ]
    },
    {
     "name": "stdout",
     "output_type": "stream",
     "text": [
      "Epoch 6 VGG Regression Loss: 8553.6003\n"
     ]
    },
    {
     "name": "stderr",
     "output_type": "stream",
     "text": [
      "VGG Regression Epoch 7/10: 100%|██████████| 125/125 [00:27<00:00,  4.52it/s]\n"
     ]
    },
    {
     "name": "stdout",
     "output_type": "stream",
     "text": [
      "Epoch 7 VGG Regression Loss: 8142.2490\n"
     ]
    },
    {
     "name": "stderr",
     "output_type": "stream",
     "text": [
      "VGG Regression Epoch 8/10: 100%|██████████| 125/125 [00:27<00:00,  4.51it/s]\n"
     ]
    },
    {
     "name": "stdout",
     "output_type": "stream",
     "text": [
      "Epoch 8 VGG Regression Loss: 8183.5703\n"
     ]
    },
    {
     "name": "stderr",
     "output_type": "stream",
     "text": [
      "VGG Regression Epoch 9/10: 100%|██████████| 125/125 [00:27<00:00,  4.51it/s]\n"
     ]
    },
    {
     "name": "stdout",
     "output_type": "stream",
     "text": [
      "Epoch 9 VGG Regression Loss: 8034.2474\n"
     ]
    },
    {
     "name": "stderr",
     "output_type": "stream",
     "text": [
      "VGG Regression Epoch 10/10: 100%|██████████| 125/125 [00:27<00:00,  4.52it/s]\n"
     ]
    },
    {
     "name": "stdout",
     "output_type": "stream",
     "text": [
      "Epoch 10 VGG Regression Loss: 7853.1873\n",
      "Scratch VGG Regression MSE: 5901.8886\n"
     ]
    }
   ],
   "source": [
    "\n",
    "vgg_regressor = VGG(regression_out=2, mode='regression').to(DEVICE)\n",
    "criterion_vgg_reg = nn.MSELoss()\n",
    "optimizer_vgg_reg = optim.Adam(vgg_regressor.parameters(), lr=1e-3)\n",
    "num_epochs_vgg_reg = 10\n",
    "\n",
    "vgg_reg_losses = []\n",
    "vgg_regressor.train()\n",
    "for epoch in range(num_epochs_vgg_reg):\n",
    "    running_loss = 0.0\n",
    "    for images, _, reg_targets in tqdm(train_loader_labelled, desc=f\"VGG Regression Epoch {epoch+1}/{num_epochs_vgg_reg}\"):\n",
    "        images = images.to(DEVICE)\n",
    "        reg_targets = reg_targets.to(DEVICE)\n",
    "        outputs = vgg_regressor(images)\n",
    "        loss = criterion_vgg_reg(outputs, reg_targets)\n",
    "        optimizer_vgg_reg.zero_grad()\n",
    "        loss.backward()\n",
    "        optimizer_vgg_reg.step()\n",
    "        running_loss += loss.item()\n",
    "    avg_loss = running_loss / len(train_loader_labelled)\n",
    "    vgg_reg_losses.append(avg_loss)\n",
    "    print(f\"Epoch {epoch+1} VGG Regression Loss: {avg_loss:.4f}\")\n",
    "\n",
    "vgg_regressor.eval()\n",
    "total_loss = 0.0\n",
    "with torch.no_grad():\n",
    "    for images, _, reg_targets in test_loader_labelled:\n",
    "        images = images.to(DEVICE)\n",
    "        reg_targets = reg_targets.to(DEVICE)\n",
    "        outputs = vgg_regressor(images)\n",
    "        loss = criterion_vgg_reg(outputs, reg_targets)\n",
    "        total_loss += loss.item() * images.size(0)\n",
    "vgg_avg_mse = total_loss / len(test_dataset)\n",
    "print(f\"Scratch VGG Regression MSE: {vgg_avg_mse:.4f}\")\n",
    "torch.save(vgg_regressor.state_dict(), \"scratch_vgg_regressor.pth\")\n"
   ]
  },
  {
   "cell_type": "code",
   "execution_count": 20,
   "metadata": {
    "execution": {
     "iopub.execute_input": "2025-03-22T12:02:48.619979Z",
     "iopub.status.busy": "2025-03-22T12:02:48.619682Z",
     "iopub.status.idle": "2025-03-22T12:02:48.970821Z",
     "shell.execute_reply": "2025-03-22T12:02:48.969910Z",
     "shell.execute_reply.started": "2025-03-22T12:02:48.619954Z"
    },
    "trusted": true
   },
   "outputs": [
    {
     "data": {
      "image/png": "[encoded data removed]",
      "text/plain": [
       "<Figure size 1200x500 with 2 Axes>"
      ]
     },
     "metadata": {},
     "output_type": "display_data"
    },
    {
     "name": "stdout",
     "output_type": "stream",
     "text": [
      "Scratch VGG Classification Accuracy: 50.90%\n",
      "Scratch VGG Regression MSE: 5901.8886\n"
     ]
    }
   ],
   "source": [
    "\n",
    "plt.figure(figsize=(12,5))\n",
    "plt.subplot(1,2,1)\n",
    "plt.plot(range(1, num_epochs_vgg_cls+1), vgg_cls_losses, marker='o', color='blue')\n",
    "plt.title(\"Scratch VGG Classification Loss\")\n",
    "plt.xlabel(\"Epoch\")\n",
    "plt.ylabel(\"Loss\")\n",
    "plt.grid(True)\n",
    "\n",
    "plt.subplot(1,2,2)\n",
    "plt.plot(range(1, num_epochs_vgg_reg+1), vgg_reg_losses, marker='o', color='green')\n",
    "plt.title(\"Scratch VGG Regression Loss\")\n",
    "plt.xlabel(\"Epoch\")\n",
    "plt.ylabel(\"Loss\")\n",
    "plt.grid(True)\n",
    "plt.show()\n",
    "\n",
    "print(f\"Scratch VGG Classification Accuracy: {vgg_cls_acc:.2f}%\")\n",
    "print(f\"Scratch VGG Regression MSE: {vgg_avg_mse:.4f}\")\n"
   ]
  },
  {
   "cell_type": "code",
   "execution_count": 25,
   "metadata": {
    "execution": {
     "iopub.execute_input": "2025-03-22T12:30:46.766100Z",
     "iopub.status.busy": "2025-03-22T12:30:46.765744Z",
     "iopub.status.idle": "2025-03-22T12:30:48.074692Z",
     "shell.execute_reply": "2025-03-22T12:30:48.073912Z",
     "shell.execute_reply.started": "2025-03-22T12:30:46.766075Z"
    },
    "trusted": true
   },
   "outputs": [
    {
     "name": "stdout",
     "output_type": "stream",
     "text": [
      "Fine-tuned Classification Accuracy: 83.35%\n",
      "Fine-tuned Regression MSE: 144999.0938\n",
      "Scratch VGG Classification Accuracy: 50.90%\n",
      "Scratch VGG Regression MSE: 5901.8886\n"
     ]
    }
   ],
   "source": [
    "torch.save(clf_model.state_dict(), \"finetuned_classifier.pth\")\n",
    "torch.save(reg_model.state_dict(), \"finetuned_regressor.pth\")\n",
    "\n",
    "torch.save(vgg_classifier.state_dict(), \"scratch_vgg_classifier.pth\")\n",
    "torch.save(vgg_regressor.state_dict(), \"scratch_vgg_regressor.pth\")\n",
    "\n",
    "print(f\"Fine-tuned Classification Accuracy: {clf_acc:.2f}%\")\n",
    "print(f\"Fine-tuned Regression MSE: {avg_mse:.4f}\")\n",
    "print(f\"Scratch VGG Classification Accuracy: {vgg_cls_acc:.2f}%\")\n",
    "print(f\"Scratch VGG Regression MSE: {vgg_avg_mse:.4f}\")\n",
    "\n",
    "\n"
   ]
  },
  {
   "cell_type": "code",
   "execution_count": 22,
   "metadata": {
    "execution": {
     "iopub.execute_input": "2025-03-22T12:23:59.201595Z",
     "iopub.status.busy": "2025-03-22T12:23:59.201173Z",
     "iopub.status.idle": "2025-03-22T12:24:24.211838Z",
     "shell.execute_reply": "2025-03-22T12:24:24.210965Z",
     "shell.execute_reply.started": "2025-03-22T12:23:59.201560Z"
    },
    "trusted": true
   },
   "outputs": [
    {
     "name": "stdout",
     "output_type": "stream",
     "text": [
      "  adding: barlow_pretrained_resnet15.pth (deflated 7%)\n",
      "  adding: finetuned_classifier.pth (deflated 7%)\n",
      "  adding: finetuned_regressor.pth (deflated 7%)\n",
      "  adding: scratch_vgg_classifier.pth (deflated 8%)\n",
      "  adding: scratch_vgg_regressor.pth (deflated 8%)\n"
     ]
    }
   ],
   "source": [
    "!zip -r models.zip barlow_pretrained_resnet15.pth finetuned_classifier.pth finetuned_regressor.pth scratch_vgg_classifier.pth scratch_vgg_regressor.pth"
   ]
  },
  {
   "cell_type": "code",
   "execution_count": 26,
   "metadata": {
    "execution": {
     "iopub.execute_input": "2025-03-22T12:31:00.380710Z",
     "iopub.status.busy": "2025-03-22T12:31:00.380422Z",
     "iopub.status.idle": "2025-03-22T12:31:00.386461Z",
     "shell.execute_reply": "2025-03-22T12:31:00.385538Z",
     "shell.execute_reply.started": "2025-03-22T12:31:00.380687Z"
    },
    "trusted": true
   },
   "outputs": [
    {
     "data": {
      "text/html": [
       "<a href='models.zip' target='_blank'>models.zip</a><br>"
      ],
      "text/plain": [
       "/kaggle/working/models.zip"
      ]
     },
     "execution_count": 26,
     "metadata": {},
     "output_type": "execute_result"
    }
   ],
   "source": [
    "from IPython.display import FileLink\n",
    "FileLink(\"models.zip\")"
   ]
  },
  {
   "cell_type": "code",
   "execution_count": null,
   "metadata": {
    "trusted": true
   },
   "outputs": [],
   "source": []
  }
 ],
 "metadata": {
  "kaggle": {
   "accelerator": "nvidiaTeslaT4",
   "dataSources": [
    {
     "datasetId": 6894387,
     "sourceId": 11064443,
     "sourceType": "datasetVersion"
    }
   ],
   "dockerImageVersionId": 30919,
   "isGpuEnabled": true,
   "isInternetEnabled": true,
   "language": "python",
   "sourceType": "notebook"
  },
  "kernelspec": {
   "display_name": "Python 3",
   "language": "python",
   "name": "python3"
  },
  "language_info": {
   "codemirror_mode": {
    "name": "ipython",
    "version": 3
   },
   "file_extension": ".py",
   "mimetype": "text/x-python",
   "name": "python",
   "nbconvert_exporter": "python",
   "pygments_lexer": "ipython3",
   "version": "3.10.12"
  }
 },
 "nbformat": 4,
 "nbformat_minor": 4
}
